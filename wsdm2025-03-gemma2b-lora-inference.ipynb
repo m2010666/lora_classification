{
 "cells": [
  {
   "cell_type": "code",
   "execution_count": 1,
   "id": "273787b1",
   "metadata": {
    "_cell_guid": "b1076dfc-b9ad-4769-8c92-a6c4dae69d19",
    "_uuid": "8f2839f25d086af736a60e9eeb907d3b93b6e0e5",
    "collapsed": true,
    "execution": {
     "iopub.execute_input": "2025-01-08T22:43:48.028321Z",
     "iopub.status.busy": "2025-01-08T22:43:48.027952Z",
     "iopub.status.idle": "2025-01-08T22:43:51.513319Z",
     "shell.execute_reply": "2025-01-08T22:43:51.512437Z"
    },
    "jupyter": {
     "outputs_hidden": true
    },
    "papermill": {
     "duration": 3.493048,
     "end_time": "2025-01-08T22:43:51.515366",
     "exception": false,
     "start_time": "2025-01-08T22:43:48.022318",
     "status": "completed"
    },
    "tags": []
   },
   "outputs": [
    {
     "name": "stdout",
     "output_type": "stream",
     "text": [
      "Looking in links: /kaggle/input/pm-74300417-at-01-08-2025-22-41-03/, /kaggle/input/wsdm2025-package\r\n",
      "Requirement already satisfied: transformers in /usr/local/lib/python3.10/dist-packages (4.42.3)\r\n",
      "Requirement already satisfied: peft in /usr/local/lib/python3.10/dist-packages (0.11.1)\r\n",
      "Requirement already satisfied: accelerate in /usr/local/lib/python3.10/dist-packages (0.32.1)\r\n",
      "Requirement already satisfied: bitsandbytes in /usr/local/lib/python3.10/dist-packages (0.43.1)\r\n",
      "Requirement already satisfied: filelock in /usr/local/lib/python3.10/dist-packages (from transformers) (3.16.1)\r\n",
      "Requirement already satisfied: huggingface-hub<1.0,>=0.23.2 in /usr/local/lib/python3.10/dist-packages (from transformers) (0.24.7)\r\n",
      "Requirement already satisfied: numpy<2.0,>=1.17 in /usr/local/lib/python3.10/dist-packages (from transformers) (1.26.4)\r\n",
      "Requirement already satisfied: packaging>=20.0 in /usr/local/lib/python3.10/dist-packages (from transformers) (24.1)\r\n",
      "Requirement already satisfied: pyyaml>=5.1 in /usr/local/lib/python3.10/dist-packages (from transformers) (6.0.2)\r\n",
      "Requirement already satisfied: regex!=2019.12.17 in /usr/local/lib/python3.10/dist-packages (from transformers) (2024.9.11)\r\n",
      "Requirement already satisfied: requests in /usr/local/lib/python3.10/dist-packages (from transformers) (2.32.3)\r\n",
      "Requirement already satisfied: safetensors>=0.4.1 in /usr/local/lib/python3.10/dist-packages (from transformers) (0.4.5)\r\n",
      "Requirement already satisfied: tokenizers<0.20,>=0.19 in /usr/local/lib/python3.10/dist-packages (from transformers) (0.19.1)\r\n",
      "Requirement already satisfied: tqdm>=4.27 in /usr/local/lib/python3.10/dist-packages (from transformers) (4.66.5)\r\n",
      "Requirement already satisfied: psutil in /usr/local/lib/python3.10/dist-packages (from peft) (5.9.5)\r\n",
      "Requirement already satisfied: torch>=1.13.0 in /usr/local/lib/python3.10/dist-packages (from peft) (2.4.1+cu121)\r\n",
      "Requirement already satisfied: fsspec>=2023.5.0 in /usr/local/lib/python3.10/dist-packages (from huggingface-hub<1.0,>=0.23.2->transformers) (2024.6.1)\r\n",
      "Requirement already satisfied: typing-extensions>=3.7.4.3 in /usr/local/lib/python3.10/dist-packages (from huggingface-hub<1.0,>=0.23.2->transformers) (4.12.2)\r\n",
      "Requirement already satisfied: sympy in /usr/local/lib/python3.10/dist-packages (from torch>=1.13.0->peft) (1.13.3)\r\n",
      "Requirement already satisfied: networkx in /usr/local/lib/python3.10/dist-packages (from torch>=1.13.0->peft) (3.3)\r\n",
      "Requirement already satisfied: jinja2 in /usr/local/lib/python3.10/dist-packages (from torch>=1.13.0->peft) (3.1.4)\r\n",
      "Requirement already satisfied: charset-normalizer<4,>=2 in /usr/local/lib/python3.10/dist-packages (from requests->transformers) (3.3.2)\r\n",
      "Requirement already satisfied: idna<4,>=2.5 in /usr/local/lib/python3.10/dist-packages (from requests->transformers) (3.10)\r\n",
      "Requirement already satisfied: urllib3<3,>=1.21.1 in /usr/local/lib/python3.10/dist-packages (from requests->transformers) (2.2.3)\r\n",
      "Requirement already satisfied: certifi>=2017.4.17 in /usr/local/lib/python3.10/dist-packages (from requests->transformers) (2024.8.30)\r\n",
      "Requirement already satisfied: MarkupSafe>=2.0 in /usr/local/lib/python3.10/dist-packages (from jinja2->torch>=1.13.0->peft) (2.1.5)\r\n",
      "Requirement already satisfied: mpmath<1.4,>=1.1.0 in /usr/local/lib/python3.10/dist-packages (from sympy->torch>=1.13.0->peft) (1.3.0)\r\n"
     ]
    }
   ],
   "source": [
    "!pip install transformers peft accelerate bitsandbytes \\\n",
    "    -U --no-index --find-links /kaggle/input/wsdm2025-package"
   ]
  },
  {
   "cell_type": "code",
   "execution_count": 2,
   "id": "6dcc9907",
   "metadata": {
    "execution": {
     "iopub.execute_input": "2025-01-08T22:43:51.525309Z",
     "iopub.status.busy": "2025-01-08T22:43:51.525081Z",
     "iopub.status.idle": "2025-01-08T22:44:05.368903Z",
     "shell.execute_reply": "2025-01-08T22:44:05.368116Z"
    },
    "papermill": {
     "duration": 13.850307,
     "end_time": "2025-01-08T22:44:05.370440",
     "exception": false,
     "start_time": "2025-01-08T22:43:51.520133",
     "status": "completed"
    },
    "tags": []
   },
   "outputs": [],
   "source": [
    "import time\n",
    "from dataclasses import dataclass\n",
    "from concurrent.futures import ThreadPoolExecutor\n",
    "\n",
    "import torch\n",
    "import sklearn\n",
    "import polars as pl\n",
    "import numpy as np\n",
    "import pandas as pd\n",
    "from tqdm import tqdm\n",
    "from transformers import Gemma2ForSequenceClassification, GemmaTokenizerFast, BitsAndBytesConfig\n",
    "from transformers.data.data_collator import pad_without_fast_tokenizer_warning\n",
    "from peft import PeftModel"
   ]
  },
  {
   "cell_type": "markdown",
   "id": "b7a53413",
   "metadata": {
    "papermill": {
     "duration": 0.003972,
     "end_time": "2025-01-08T22:44:05.379017",
     "exception": false,
     "start_time": "2025-01-08T22:44:05.375045",
     "status": "completed"
    },
    "tags": []
   },
   "source": [
    "# config"
   ]
  },
  {
   "cell_type": "code",
   "execution_count": 3,
   "id": "e02f8576",
   "metadata": {
    "execution": {
     "iopub.execute_input": "2025-01-08T22:44:05.388223Z",
     "iopub.status.busy": "2025-01-08T22:44:05.387725Z",
     "iopub.status.idle": "2025-01-08T22:44:05.392192Z",
     "shell.execute_reply": "2025-01-08T22:44:05.391254Z"
    },
    "papermill": {
     "duration": 0.01042,
     "end_time": "2025-01-08T22:44:05.393415",
     "exception": false,
     "start_time": "2025-01-08T22:44:05.382995",
     "status": "completed"
    },
    "tags": []
   },
   "outputs": [],
   "source": [
    "@dataclass\n",
    "class Config:\n",
    "    gemma_dir = '/kaggle/input/gemma-2/transformers/gemma-2-9b-it-4bit/1/gemma-2-9b-it-4bit'\n",
    "    lora_dir = '/kaggle/input/wsdm2025-03-gemma2b-lora-train/wsdm2025-multilingual-chatbot-arena/lora_param/'\n",
    "    max_length = 1900\n",
    "    batch_size_list = [2, 16]\n",
    "    tta = True\n",
    "config = Config()"
   ]
  },
  {
   "cell_type": "markdown",
   "id": "3cd9e499",
   "metadata": {
    "papermill": {
     "duration": 0.004003,
     "end_time": "2025-01-08T22:44:05.401477",
     "exception": false,
     "start_time": "2025-01-08T22:44:05.397474",
     "status": "completed"
    },
    "tags": []
   },
   "source": [
    "# Tokenizer"
   ]
  },
  {
   "cell_type": "code",
   "execution_count": 4,
   "id": "9d4bb69a",
   "metadata": {
    "execution": {
     "iopub.execute_input": "2025-01-08T22:44:05.410188Z",
     "iopub.status.busy": "2025-01-08T22:44:05.409947Z",
     "iopub.status.idle": "2025-01-08T22:44:06.310176Z",
     "shell.execute_reply": "2025-01-08T22:44:06.309438Z"
    },
    "papermill": {
     "duration": 0.906138,
     "end_time": "2025-01-08T22:44:06.311666",
     "exception": false,
     "start_time": "2025-01-08T22:44:05.405528",
     "status": "completed"
    },
    "tags": []
   },
   "outputs": [],
   "source": [
    "tokenizer = GemmaTokenizerFast.from_pretrained(config.gemma_dir)\n",
    "tokenizer.add_eos_token = True  # We'll add <eos> at the end\n",
    "tokenizer.padding_side = \"right\""
   ]
  },
  {
   "cell_type": "markdown",
   "id": "2d015f37",
   "metadata": {
    "papermill": {
     "duration": 0.004118,
     "end_time": "2025-01-08T22:44:06.320580",
     "exception": false,
     "start_time": "2025-01-08T22:44:06.316462",
     "status": "completed"
    },
    "tags": []
   },
   "source": [
    "# Read Data"
   ]
  },
  {
   "cell_type": "code",
   "execution_count": 5,
   "id": "6590b9cd",
   "metadata": {
    "execution": {
     "iopub.execute_input": "2025-01-08T22:44:06.329654Z",
     "iopub.status.busy": "2025-01-08T22:44:06.329434Z",
     "iopub.status.idle": "2025-01-08T22:44:06.452781Z",
     "shell.execute_reply": "2025-01-08T22:44:06.452155Z"
    },
    "papermill": {
     "duration": 0.129452,
     "end_time": "2025-01-08T22:44:06.454112",
     "exception": false,
     "start_time": "2025-01-08T22:44:06.324660",
     "status": "completed"
    },
    "tags": []
   },
   "outputs": [],
   "source": [
    "INPUT_DIR = \"/kaggle/input/wsdm-cup-multilingual-chatbot-arena\"\n",
    "\n",
    "# train = pd.read_parquet(f\"{INPUT_DIR}/train.parquet\")\n",
    "test = pd.read_parquet(f\"{INPUT_DIR}/test.parquet\")"
   ]
  },
  {
   "cell_type": "code",
   "execution_count": 6,
   "id": "093cff7a",
   "metadata": {
    "execution": {
     "iopub.execute_input": "2025-01-08T22:44:06.463297Z",
     "iopub.status.busy": "2025-01-08T22:44:06.463083Z",
     "iopub.status.idle": "2025-01-08T22:44:06.466178Z",
     "shell.execute_reply": "2025-01-08T22:44:06.465569Z"
    },
    "papermill": {
     "duration": 0.008904,
     "end_time": "2025-01-08T22:44:06.467322",
     "exception": false,
     "start_time": "2025-01-08T22:44:06.458418",
     "status": "completed"
    },
    "tags": []
   },
   "outputs": [],
   "source": [
    "def process_text(text):\n",
    "    return text.replace(\"null\", \"\").strip()"
   ]
  },
  {
   "cell_type": "code",
   "execution_count": 7,
   "id": "2b79b5fd",
   "metadata": {
    "execution": {
     "iopub.execute_input": "2025-01-08T22:44:06.476373Z",
     "iopub.status.busy": "2025-01-08T22:44:06.476179Z",
     "iopub.status.idle": "2025-01-08T22:44:06.480539Z",
     "shell.execute_reply": "2025-01-08T22:44:06.479925Z"
    },
    "papermill": {
     "duration": 0.010312,
     "end_time": "2025-01-08T22:44:06.481726",
     "exception": false,
     "start_time": "2025-01-08T22:44:06.471414",
     "status": "completed"
    },
    "tags": []
   },
   "outputs": [],
   "source": [
    "def tokenize_test(row,tokenizer):\n",
    "    prompt = [\"<prompt>: \" + process_text(t) for t in row[\"prompt\"]]\n",
    "    response_a = [\"\\n\\n<response_a>: \" + process_text(t) for t in row[\"response_a\"]]\n",
    "    response_b = [\"\\n\\n<response_b>: \" + process_text(t) for t in row[\"response_b\"]]\n",
    "\n",
    "    # Concatenate all parts into one text field for tokenization\n",
    "    texts = [p + r_a + r_b for p, r_a, r_b in zip(prompt, response_a, response_b)]\n",
    "        \n",
    "    # Tokenize the texts\n",
    "    tokenized = tokenizer(texts, max_length=1024, truncation=True, padding=True)\n",
    "\n",
    "    # input_ids = tokenized.input_ids\n",
    "    # attention_mask = tokenized.attention_mask\n",
    "    \n",
    "    # return input_ids, attention_mask\n",
    "\n",
    "    return tokenized"
   ]
  },
  {
   "cell_type": "code",
   "execution_count": 8,
   "id": "dab94145",
   "metadata": {
    "execution": {
     "iopub.execute_input": "2025-01-08T22:44:06.490857Z",
     "iopub.status.busy": "2025-01-08T22:44:06.490598Z",
     "iopub.status.idle": "2025-01-08T22:44:06.494903Z",
     "shell.execute_reply": "2025-01-08T22:44:06.494089Z"
    },
    "papermill": {
     "duration": 0.01037,
     "end_time": "2025-01-08T22:44:06.496302",
     "exception": false,
     "start_time": "2025-01-08T22:44:06.485932",
     "status": "completed"
    },
    "tags": []
   },
   "outputs": [],
   "source": [
    "def tokenize(\n",
    "    tokenizer, prompt, response_a, response_b, max_length=config.max_length):\n",
    "    prompt = [\"<prompt>: \" + t for t in prompt]\n",
    "    response_a = [\"\\n\\n<response_a>: \" + t for t in response_a]\n",
    "    response_b = [\"\\n\\n<response_b>: \" + t for t in response_b]\n",
    "    texts = [p + r_a + r_b for p, r_a, r_b in zip(prompt, response_a, response_b)]\n",
    "    tokenized = tokenizer(texts, max_length=max_length, truncation=True)\n",
    "    return tokenized['input_ids'], tokenized['attention_mask']"
   ]
  },
  {
   "cell_type": "code",
   "execution_count": 9,
   "id": "d1cecdde",
   "metadata": {
    "execution": {
     "iopub.execute_input": "2025-01-08T22:44:06.504896Z",
     "iopub.status.busy": "2025-01-08T22:44:06.504632Z",
     "iopub.status.idle": "2025-01-08T22:44:06.533752Z",
     "shell.execute_reply": "2025-01-08T22:44:06.533157Z"
    },
    "papermill": {
     "duration": 0.034767,
     "end_time": "2025-01-08T22:44:06.534999",
     "exception": false,
     "start_time": "2025-01-08T22:44:06.500232",
     "status": "completed"
    },
    "tags": []
   },
   "outputs": [],
   "source": [
    "data = pd.DataFrame()\n",
    "data[\"id\"] = test[\"id\"]\n",
    "data[\"input_ids\"], data[\"attention_mask\"] = tokenize(tokenizer, test[\"prompt\"], test[\"response_a\"], test[\"response_b\"])\n",
    "data[\"length\"] = data[\"input_ids\"].apply(len)\n",
    "\n",
    "aug_data = pd.DataFrame()\n",
    "aug_data[\"id\"] = test[\"id\"]\n",
    "# swap response_a & response_b\n",
    "aug_data['input_ids'], aug_data['attention_mask'] = tokenize(tokenizer, test[\"prompt\"], test[\"response_b\"], test[\"response_a\"])\n",
    "aug_data[\"length\"] = aug_data[\"input_ids\"].apply(len)"
   ]
  },
  {
   "cell_type": "code",
   "execution_count": 10,
   "id": "4a354704",
   "metadata": {
    "execution": {
     "iopub.execute_input": "2025-01-08T22:44:06.543593Z",
     "iopub.status.busy": "2025-01-08T22:44:06.543393Z",
     "iopub.status.idle": "2025-01-08T22:44:06.546321Z",
     "shell.execute_reply": "2025-01-08T22:44:06.545511Z"
    },
    "papermill": {
     "duration": 0.008432,
     "end_time": "2025-01-08T22:44:06.547470",
     "exception": false,
     "start_time": "2025-01-08T22:44:06.539038",
     "status": "completed"
    },
    "tags": []
   },
   "outputs": [],
   "source": [
    "# ds_test = Dataset.from_pandas(test)\n",
    "# ds_test = ds_test.map(\n",
    "#     tokenize_test,\n",
    "#     fn_kwargs={'tokenizer': tokenizer},\n",
    "#     batched=True,\n",
    "# )\n",
    "\n",
    "# # メモリ節約のために元のテキスト列を削除（オプション）\n",
    "# ds_test = ds_test.remove_columns(['prompt', 'response_a', 'response_b'])\n",
    "\n",
    "# preds_test = trainer.predict(ds_test).predictions"
   ]
  },
  {
   "cell_type": "markdown",
   "id": "71749674",
   "metadata": {
    "papermill": {
     "duration": 0.003737,
     "end_time": "2025-01-08T22:44:06.555205",
     "exception": false,
     "start_time": "2025-01-08T22:44:06.551468",
     "status": "completed"
    },
    "tags": []
   },
   "source": [
    "# Model Setting"
   ]
  },
  {
   "cell_type": "code",
   "execution_count": 11,
   "id": "f51292f4",
   "metadata": {
    "execution": {
     "iopub.execute_input": "2025-01-08T22:44:06.564035Z",
     "iopub.status.busy": "2025-01-08T22:44:06.563760Z",
     "iopub.status.idle": "2025-01-08T22:44:58.137943Z",
     "shell.execute_reply": "2025-01-08T22:44:58.137195Z"
    },
    "papermill": {
     "duration": 51.580274,
     "end_time": "2025-01-08T22:44:58.139570",
     "exception": false,
     "start_time": "2025-01-08T22:44:06.559296",
     "status": "completed"
    },
    "tags": []
   },
   "outputs": [
    {
     "name": "stderr",
     "output_type": "stream",
     "text": [
      "Unused kwargs: ['_load_in_4bit', '_load_in_8bit', 'quant_method']. These kwargs are not used in <class 'transformers.utils.quantization_config.BitsAndBytesConfig'>.\n"
     ]
    },
    {
     "data": {
      "application/vnd.jupyter.widget-view+json": {
       "model_id": "2c6cfb8fb26c4e4cbd633396760587d9",
       "version_major": 2,
       "version_minor": 0
      },
      "text/plain": [
       "Loading checkpoint shards:   0%|          | 0/2 [00:00<?, ?it/s]"
      ]
     },
     "metadata": {},
     "output_type": "display_data"
    },
    {
     "name": "stderr",
     "output_type": "stream",
     "text": [
      "Unused kwargs: ['_load_in_4bit', '_load_in_8bit', 'quant_method']. These kwargs are not used in <class 'transformers.utils.quantization_config.BitsAndBytesConfig'>.\n"
     ]
    },
    {
     "data": {
      "application/vnd.jupyter.widget-view+json": {
       "model_id": "97c87f75341c4edfb9032c10c0d37649",
       "version_major": 2,
       "version_minor": 0
      },
      "text/plain": [
       "Loading checkpoint shards:   0%|          | 0/2 [00:00<?, ?it/s]"
      ]
     },
     "metadata": {},
     "output_type": "display_data"
    }
   ],
   "source": [
    "device_0 = torch.device('cuda:0')\n",
    "model_0 = Gemma2ForSequenceClassification.from_pretrained(\n",
    "    config.gemma_dir,\n",
    "    device_map=device_0,\n",
    "    use_cache=False,\n",
    ")\n",
    "model_0.score = torch.nn.Linear(in_features=3584, out_features=3, bias=False).to(device_0)\n",
    "\n",
    "# Load base model on GPU 1\n",
    "device_1 = torch.device('cuda:1')\n",
    "model_1 = Gemma2ForSequenceClassification.from_pretrained(\n",
    "    config.gemma_dir,\n",
    "    device_map=device_1,\n",
    "    use_cache=False,\n",
    ")\n",
    "model_1.score = torch.nn.Linear(in_features=3584, out_features=3, bias=False).to(device_1)"
   ]
  },
  {
   "cell_type": "code",
   "execution_count": 12,
   "id": "87e7fdc4",
   "metadata": {
    "execution": {
     "iopub.execute_input": "2025-01-08T22:44:58.150744Z",
     "iopub.status.busy": "2025-01-08T22:44:58.150511Z",
     "iopub.status.idle": "2025-01-08T22:44:58.660634Z",
     "shell.execute_reply": "2025-01-08T22:44:58.659832Z"
    },
    "papermill": {
     "duration": 0.517225,
     "end_time": "2025-01-08T22:44:58.662163",
     "exception": false,
     "start_time": "2025-01-08T22:44:58.144938",
     "status": "completed"
    },
    "tags": []
   },
   "outputs": [
    {
     "data": {
      "text/plain": [
       "PeftModelForSequenceClassification(\n",
       "  (base_model): LoraModel(\n",
       "    (model): Gemma2ForSequenceClassification(\n",
       "      (model): Gemma2Model(\n",
       "        (embed_tokens): Embedding(256000, 3584, padding_idx=0)\n",
       "        (layers): ModuleList(\n",
       "          (0-15): 16 x Gemma2DecoderLayer(\n",
       "            (self_attn): Gemma2SdpaAttention(\n",
       "              (q_proj): Linear4bit(in_features=3584, out_features=4096, bias=False)\n",
       "              (k_proj): Linear4bit(in_features=3584, out_features=2048, bias=False)\n",
       "              (v_proj): Linear4bit(in_features=3584, out_features=2048, bias=False)\n",
       "              (o_proj): Linear4bit(in_features=4096, out_features=3584, bias=False)\n",
       "              (rotary_emb): Gemma2RotaryEmbedding()\n",
       "            )\n",
       "            (mlp): Gemma2MLP(\n",
       "              (gate_proj): Linear4bit(in_features=3584, out_features=14336, bias=False)\n",
       "              (up_proj): Linear4bit(in_features=3584, out_features=14336, bias=False)\n",
       "              (down_proj): Linear4bit(in_features=14336, out_features=3584, bias=False)\n",
       "              (act_fn): PytorchGELUTanh()\n",
       "            )\n",
       "            (input_layernorm): Gemma2RMSNorm()\n",
       "            (post_attention_layernorm): Gemma2RMSNorm()\n",
       "            (pre_feedforward_layernorm): Gemma2RMSNorm()\n",
       "            (post_feedforward_layernorm): Gemma2RMSNorm()\n",
       "          )\n",
       "          (16-41): 26 x Gemma2DecoderLayer(\n",
       "            (self_attn): Gemma2SdpaAttention(\n",
       "              (q_proj): lora.Linear4bit(\n",
       "                (base_layer): Linear4bit(in_features=3584, out_features=4096, bias=False)\n",
       "                (lora_dropout): ModuleDict(\n",
       "                  (default): Dropout(p=0.05, inplace=False)\n",
       "                )\n",
       "                (lora_A): ModuleDict(\n",
       "                  (default): Linear(in_features=3584, out_features=8, bias=False)\n",
       "                )\n",
       "                (lora_B): ModuleDict(\n",
       "                  (default): Linear(in_features=8, out_features=4096, bias=False)\n",
       "                )\n",
       "                (lora_embedding_A): ParameterDict()\n",
       "                (lora_embedding_B): ParameterDict()\n",
       "              )\n",
       "              (k_proj): lora.Linear4bit(\n",
       "                (base_layer): Linear4bit(in_features=3584, out_features=2048, bias=False)\n",
       "                (lora_dropout): ModuleDict(\n",
       "                  (default): Dropout(p=0.05, inplace=False)\n",
       "                )\n",
       "                (lora_A): ModuleDict(\n",
       "                  (default): Linear(in_features=3584, out_features=8, bias=False)\n",
       "                )\n",
       "                (lora_B): ModuleDict(\n",
       "                  (default): Linear(in_features=8, out_features=2048, bias=False)\n",
       "                )\n",
       "                (lora_embedding_A): ParameterDict()\n",
       "                (lora_embedding_B): ParameterDict()\n",
       "              )\n",
       "              (v_proj): lora.Linear4bit(\n",
       "                (base_layer): Linear4bit(in_features=3584, out_features=2048, bias=False)\n",
       "                (lora_dropout): ModuleDict(\n",
       "                  (default): Dropout(p=0.05, inplace=False)\n",
       "                )\n",
       "                (lora_A): ModuleDict(\n",
       "                  (default): Linear(in_features=3584, out_features=8, bias=False)\n",
       "                )\n",
       "                (lora_B): ModuleDict(\n",
       "                  (default): Linear(in_features=8, out_features=2048, bias=False)\n",
       "                )\n",
       "                (lora_embedding_A): ParameterDict()\n",
       "                (lora_embedding_B): ParameterDict()\n",
       "              )\n",
       "              (o_proj): Linear4bit(in_features=4096, out_features=3584, bias=False)\n",
       "              (rotary_emb): Gemma2RotaryEmbedding()\n",
       "            )\n",
       "            (mlp): Gemma2MLP(\n",
       "              (gate_proj): Linear4bit(in_features=3584, out_features=14336, bias=False)\n",
       "              (up_proj): Linear4bit(in_features=3584, out_features=14336, bias=False)\n",
       "              (down_proj): Linear4bit(in_features=14336, out_features=3584, bias=False)\n",
       "              (act_fn): PytorchGELUTanh()\n",
       "            )\n",
       "            (input_layernorm): Gemma2RMSNorm()\n",
       "            (post_attention_layernorm): Gemma2RMSNorm()\n",
       "            (pre_feedforward_layernorm): Gemma2RMSNorm()\n",
       "            (post_feedforward_layernorm): Gemma2RMSNorm()\n",
       "          )\n",
       "        )\n",
       "        (norm): Gemma2RMSNorm()\n",
       "      )\n",
       "      (score): ModulesToSaveWrapper(\n",
       "        (original_module): Linear(in_features=3584, out_features=3, bias=False)\n",
       "        (modules_to_save): ModuleDict(\n",
       "          (default): Linear(in_features=3584, out_features=3, bias=False)\n",
       "        )\n",
       "      )\n",
       "    )\n",
       "  )\n",
       ")"
      ]
     },
     "execution_count": 12,
     "metadata": {},
     "output_type": "execute_result"
    }
   ],
   "source": [
    "# Get peft\n",
    "model_0 = PeftModel.from_pretrained(model_0, model_id=config.lora_dir).to(device_0) \n",
    "model_0.eval()\n",
    "\n",
    "model_1 = PeftModel.from_pretrained(model_1, model_id=config.lora_dir).to(device_1)\n",
    "model_1.eval()"
   ]
  },
  {
   "cell_type": "code",
   "execution_count": 13,
   "id": "af8c4815",
   "metadata": {
    "execution": {
     "iopub.execute_input": "2025-01-08T22:44:58.672892Z",
     "iopub.status.busy": "2025-01-08T22:44:58.672613Z",
     "iopub.status.idle": "2025-01-08T22:44:58.678490Z",
     "shell.execute_reply": "2025-01-08T22:44:58.677678Z"
    },
    "papermill": {
     "duration": 0.012568,
     "end_time": "2025-01-08T22:44:58.679665",
     "exception": false,
     "start_time": "2025-01-08T22:44:58.667097",
     "status": "completed"
    },
    "tags": []
   },
   "outputs": [
    {
     "name": "stderr",
     "output_type": "stream",
     "text": [
      "<ipython-input-13-6d091886befd>:2: FutureWarning: `torch.cuda.amp.autocast(args...)` is deprecated. Please use `torch.amp.autocast('cuda', args...)` instead.\n",
      "  @torch.cuda.amp.autocast()\n"
     ]
    }
   ],
   "source": [
    "@torch.no_grad()\n",
    "@torch.cuda.amp.autocast()\n",
    "def inference(df, model, device, batch_size, max_length=config.max_length):\n",
    "    winners = []\n",
    "    \n",
    "    for start_idx in range(0, len(df), batch_size):\n",
    "        end_idx = min(start_idx + batch_size, len(df))\n",
    "        tmp = df.iloc[start_idx:end_idx]\n",
    "        input_ids = tmp[\"input_ids\"].to_list()\n",
    "        attention_mask = tmp[\"attention_mask\"].to_list()\n",
    "        inputs = pad_without_fast_tokenizer_warning(\n",
    "            tokenizer,\n",
    "            {\"input_ids\": input_ids, \"attention_mask\": attention_mask},\n",
    "            padding=\"longest\",\n",
    "            pad_to_multiple_of=None,\n",
    "            return_tensors=\"pt\",\n",
    "        )\n",
    "        outputs = model(**inputs.to(device))\n",
    "        proba = outputs.logits.softmax(-1).cpu()\n",
    "        \n",
    "        winners.extend(proba[:, 1].tolist())\n",
    "    \n",
    "    df['winner'] = winners\n",
    "    return df"
   ]
  },
  {
   "cell_type": "code",
   "execution_count": 14,
   "id": "eb18fc7a",
   "metadata": {
    "execution": {
     "iopub.execute_input": "2025-01-08T22:44:58.689607Z",
     "iopub.status.busy": "2025-01-08T22:44:58.689401Z",
     "iopub.status.idle": "2025-01-08T22:45:03.659566Z",
     "shell.execute_reply": "2025-01-08T22:45:03.658758Z"
    },
    "papermill": {
     "duration": 4.976647,
     "end_time": "2025-01-08T22:45:03.660991",
     "exception": false,
     "start_time": "2025-01-08T22:44:58.684344",
     "status": "completed"
    },
    "tags": []
   },
   "outputs": [
    {
     "name": "stdout",
     "output_type": "stream",
     "text": [
      "elapsed time: 4.961940288543701\n"
     ]
    }
   ],
   "source": [
    "st = time.time()\n",
    "# sort by input length to fully leverage dynaminc padding\n",
    "if config.tta:\n",
    "    data = pd.concat([data, aug_data]).reset_index(drop=True)\n",
    "    data['index'] = np.arange(len(data), dtype=np.int32)\n",
    "    data = data.sort_values(\"length\", ascending=False)\n",
    "else:\n",
    "    data['index'] = np.arange(len(data), dtype=np.int32)\n",
    "    data = data.sort_values(\"length\", ascending=False)\n",
    "\n",
    "data_dict = {}\n",
    "data_dict[0] = data[data[\"length\"] > 1024].reset_index(drop=True)\n",
    "data_dict[1] = data[data[\"length\"] <= 1024].reset_index(drop=True)\n",
    "result_df = []\n",
    "for i, batch_size in enumerate(Config.batch_size_list):\n",
    "    if len(data_dict[i]) == 0:\n",
    "        continue\n",
    "    sub_1 = data_dict[i].iloc[0::2].copy()\n",
    "    sub_2 = data_dict[i].iloc[1::2].copy()\n",
    "    \n",
    "    with ThreadPoolExecutor(max_workers=2) as executor:\n",
    "        results = executor.map(inference, (sub_1, sub_2), (model_0, model_1), (device_0, device_1), (batch_size, batch_size))\n",
    "        \n",
    "    result_df.append(pd.concat(list(results), axis=0))\n",
    "\n",
    "result_df = pd.concat(result_df).sort_values('index').reset_index(drop=True)\n",
    "if config.tta:\n",
    "    proba = result_df['winner'].values[:len(aug_data)]\n",
    "    tta_proba = 1 - result_df['winner'].values[len(aug_data):]\n",
    "    proba = (proba + tta_proba) / 2\n",
    "    result_df = result_df[:len(aug_data)].copy()\n",
    "    result_df['winner'] = proba\n",
    "print(f\"elapsed time: {time.time() - st}\")"
   ]
  },
  {
   "cell_type": "code",
   "execution_count": 15,
   "id": "e70d98a8",
   "metadata": {
    "execution": {
     "iopub.execute_input": "2025-01-08T22:45:03.672746Z",
     "iopub.status.busy": "2025-01-08T22:45:03.672437Z",
     "iopub.status.idle": "2025-01-08T22:45:03.690844Z",
     "shell.execute_reply": "2025-01-08T22:45:03.690115Z"
    },
    "papermill": {
     "duration": 0.025926,
     "end_time": "2025-01-08T22:45:03.692084",
     "exception": false,
     "start_time": "2025-01-08T22:45:03.666158",
     "status": "completed"
    },
    "tags": []
   },
   "outputs": [
    {
     "data": {
      "text/html": [
       "<div>\n",
       "<style scoped>\n",
       "    .dataframe tbody tr th:only-of-type {\n",
       "        vertical-align: middle;\n",
       "    }\n",
       "\n",
       "    .dataframe tbody tr th {\n",
       "        vertical-align: top;\n",
       "    }\n",
       "\n",
       "    .dataframe thead th {\n",
       "        text-align: right;\n",
       "    }\n",
       "</style>\n",
       "<table border=\"1\" class=\"dataframe\">\n",
       "  <thead>\n",
       "    <tr style=\"text-align: right;\">\n",
       "      <th></th>\n",
       "      <th>id</th>\n",
       "      <th>winner</th>\n",
       "    </tr>\n",
       "  </thead>\n",
       "  <tbody>\n",
       "    <tr>\n",
       "      <th>0</th>\n",
       "      <td>327228</td>\n",
       "      <td>model_a</td>\n",
       "    </tr>\n",
       "    <tr>\n",
       "      <th>1</th>\n",
       "      <td>1139415</td>\n",
       "      <td>model_b</td>\n",
       "    </tr>\n",
       "    <tr>\n",
       "      <th>2</th>\n",
       "      <td>1235630</td>\n",
       "      <td>model_a</td>\n",
       "    </tr>\n",
       "  </tbody>\n",
       "</table>\n",
       "</div>"
      ],
      "text/plain": [
       "        id   winner\n",
       "0   327228  model_a\n",
       "1  1139415  model_b\n",
       "2  1235630  model_a"
      ]
     },
     "metadata": {},
     "output_type": "display_data"
    }
   ],
   "source": [
    "submission_df = result_df[['id', 'winner']].copy()\n",
    "submission_df['winner'] = np.where(submission_df['winner'] > 0.5, 'model_a', 'model_b')\n",
    "submission_df.to_csv('submission.csv', index=False)\n",
    "display(submission_df[['id', 'winner']])"
   ]
  },
  {
   "cell_type": "code",
   "execution_count": 16,
   "id": "52abb716",
   "metadata": {
    "execution": {
     "iopub.execute_input": "2025-01-08T22:45:03.702934Z",
     "iopub.status.busy": "2025-01-08T22:45:03.702680Z",
     "iopub.status.idle": "2025-01-08T22:45:03.705517Z",
     "shell.execute_reply": "2025-01-08T22:45:03.704881Z"
    },
    "papermill": {
     "duration": 0.009655,
     "end_time": "2025-01-08T22:45:03.706748",
     "exception": false,
     "start_time": "2025-01-08T22:45:03.697093",
     "status": "completed"
    },
    "tags": []
   },
   "outputs": [],
   "source": [
    "# prob = torch.from_numpy(preds_test).float().softmax(dim=-1).numpy()\n",
    "# class_mapping = {0: 'model_a', 1: 'model_b'} \n",
    "# test[\"winner\"] = np.argmax(prob, axis=1)\n",
    "# test['winner'] = test['winner'].map(class_mapping)\n"
   ]
  },
  {
   "cell_type": "code",
   "execution_count": 17,
   "id": "a0107806",
   "metadata": {
    "execution": {
     "iopub.execute_input": "2025-01-08T22:45:03.716920Z",
     "iopub.status.busy": "2025-01-08T22:45:03.716671Z",
     "iopub.status.idle": "2025-01-08T22:45:03.719216Z",
     "shell.execute_reply": "2025-01-08T22:45:03.718617Z"
    },
    "papermill": {
     "duration": 0.008844,
     "end_time": "2025-01-08T22:45:03.720383",
     "exception": false,
     "start_time": "2025-01-08T22:45:03.711539",
     "status": "completed"
    },
    "tags": []
   },
   "outputs": [],
   "source": [
    "# sub=test[[\"id\",\"winner\"]]\n",
    "# sub.head()"
   ]
  },
  {
   "cell_type": "code",
   "execution_count": 18,
   "id": "5771bd83",
   "metadata": {
    "execution": {
     "iopub.execute_input": "2025-01-08T22:45:03.730485Z",
     "iopub.status.busy": "2025-01-08T22:45:03.730278Z",
     "iopub.status.idle": "2025-01-08T22:45:03.732996Z",
     "shell.execute_reply": "2025-01-08T22:45:03.732353Z"
    },
    "papermill": {
     "duration": 0.008978,
     "end_time": "2025-01-08T22:45:03.734179",
     "exception": false,
     "start_time": "2025-01-08T22:45:03.725201",
     "status": "completed"
    },
    "tags": []
   },
   "outputs": [],
   "source": [
    "# sub.to_csv(\"submission.csv\",index=False)"
   ]
  },
  {
   "cell_type": "code",
   "execution_count": null,
   "id": "63cd8799",
   "metadata": {
    "papermill": {
     "duration": 0.004714,
     "end_time": "2025-01-08T22:45:03.743615",
     "exception": false,
     "start_time": "2025-01-08T22:45:03.738901",
     "status": "completed"
    },
    "tags": []
   },
   "outputs": [],
   "source": []
  },
  {
   "cell_type": "code",
   "execution_count": 1,
   "id": "6c2fc94d-2edc-4de4-9858-e6e4a910872a",
   "metadata": {},
   "outputs": [],
   "source": [
    "## studying docker"
   ]
  },
  {
   "cell_type": "code",
   "execution_count": null,
   "id": "11bc2160-61d4-4b5f-a605-3b14571ed2d8",
   "metadata": {},
   "outputs": [],
   "source": []
  }
 ],
 "metadata": {
  "kaggle": {
   "accelerator": "nvidiaTeslaT4",
   "dataSources": [
    {
     "databundleVersionId": 10131489,
     "sourceId": 86946,
     "sourceType": "competition"
    },
    {
     "sourceId": 216627900,
     "sourceType": "kernelVersion"
    },
    {
     "sourceId": 216718764,
     "sourceType": "kernelVersion"
    },
    {
     "isSourceIdPinned": true,
     "modelId": 86587,
     "modelInstanceId": 63082,
     "sourceId": 75103,
     "sourceType": "modelInstanceVersion"
    }
   ],
   "dockerImageVersionId": 30823,
   "isGpuEnabled": true,
   "isInternetEnabled": false,
   "language": "python",
   "sourceType": "notebook"
  },
  "kernelspec": {
   "display_name": "Python 3 (ipykernel)",
   "language": "python",
   "name": "python3"
  },
  "language_info": {
   "codemirror_mode": {
    "name": "ipython",
    "version": 3
   },
   "file_extension": ".py",
   "mimetype": "text/x-python",
   "name": "python",
   "nbconvert_exporter": "python",
   "pygments_lexer": "ipython3",
   "version": "3.11.6"
  },
  "papermill": {
   "default_parameters": {},
   "duration": 80.709209,
   "end_time": "2025-01-08T22:45:06.632623",
   "environment_variables": {},
   "exception": null,
   "input_path": "__notebook__.ipynb",
   "output_path": "__notebook__.ipynb",
   "parameters": {},
   "start_time": "2025-01-08T22:43:45.923414",
   "version": "2.6.0"
  },
  "widgets": {
   "application/vnd.jupyter.widget-state+json": {
    "state": {
     "14c70f39e5524dff80a4bc21bb45f682": {
      "model_module": "@jupyter-widgets/controls",
      "model_module_version": "2.0.0",
      "model_name": "HTMLModel",
      "state": {
       "_dom_classes": [],
       "_model_module": "@jupyter-widgets/controls",
       "_model_module_version": "2.0.0",
       "_model_name": "HTMLModel",
       "_view_count": null,
       "_view_module": "@jupyter-widgets/controls",
       "_view_module_version": "2.0.0",
       "_view_name": "HTMLView",
       "description": "",
       "description_allow_html": false,
       "layout": "IPY_MODEL_5fb94d44c81a4ab19c158efad59da842",
       "placeholder": "​",
       "style": "IPY_MODEL_1e37638c531d47819094b43d6a19b53e",
       "tabbable": null,
       "tooltip": null,
       "value": " 2/2 [00:46&lt;00:00, 20.52s/it]"
      }
     },
     "1a48caada99d4964aa837ef63199801b": {
      "model_module": "@jupyter-widgets/controls",
      "model_module_version": "2.0.0",
      "model_name": "FloatProgressModel",
      "state": {
       "_dom_classes": [],
       "_model_module": "@jupyter-widgets/controls",
       "_model_module_version": "2.0.0",
       "_model_name": "FloatProgressModel",
       "_view_count": null,
       "_view_module": "@jupyter-widgets/controls",
       "_view_module_version": "2.0.0",
       "_view_name": "ProgressView",
       "bar_style": "success",
       "description": "",
       "description_allow_html": false,
       "layout": "IPY_MODEL_efca9d6e978a4c08bd3db12d6f21c22b",
       "max": 2,
       "min": 0,
       "orientation": "horizontal",
       "style": "IPY_MODEL_3953adb4926b40f99951ce92d35da987",
       "tabbable": null,
       "tooltip": null,
       "value": 2
      }
     },
     "1e37638c531d47819094b43d6a19b53e": {
      "model_module": "@jupyter-widgets/controls",
      "model_module_version": "2.0.0",
      "model_name": "HTMLStyleModel",
      "state": {
       "_model_module": "@jupyter-widgets/controls",
       "_model_module_version": "2.0.0",
       "_model_name": "HTMLStyleModel",
       "_view_count": null,
       "_view_module": "@jupyter-widgets/base",
       "_view_module_version": "2.0.0",
       "_view_name": "StyleView",
       "background": null,
       "description_width": "",
       "font_size": null,
       "text_color": null
      }
     },
     "276668281bab4f628d3ab8e3597d8af2": {
      "model_module": "@jupyter-widgets/controls",
      "model_module_version": "2.0.0",
      "model_name": "HTMLStyleModel",
      "state": {
       "_model_module": "@jupyter-widgets/controls",
       "_model_module_version": "2.0.0",
       "_model_name": "HTMLStyleModel",
       "_view_count": null,
       "_view_module": "@jupyter-widgets/base",
       "_view_module_version": "2.0.0",
       "_view_name": "StyleView",
       "background": null,
       "description_width": "",
       "font_size": null,
       "text_color": null
      }
     },
     "2c6cfb8fb26c4e4cbd633396760587d9": {
      "model_module": "@jupyter-widgets/controls",
      "model_module_version": "2.0.0",
      "model_name": "HBoxModel",
      "state": {
       "_dom_classes": [],
       "_model_module": "@jupyter-widgets/controls",
       "_model_module_version": "2.0.0",
       "_model_name": "HBoxModel",
       "_view_count": null,
       "_view_module": "@jupyter-widgets/controls",
       "_view_module_version": "2.0.0",
       "_view_name": "HBoxView",
       "box_style": "",
       "children": [
        "IPY_MODEL_fef293e78c3844988e92468ed2a2d235",
        "IPY_MODEL_1a48caada99d4964aa837ef63199801b",
        "IPY_MODEL_14c70f39e5524dff80a4bc21bb45f682"
       ],
       "layout": "IPY_MODEL_bc866e9861c14708a928a673cf9c653c",
       "tabbable": null,
       "tooltip": null
      }
     },
     "3953adb4926b40f99951ce92d35da987": {
      "model_module": "@jupyter-widgets/controls",
      "model_module_version": "2.0.0",
      "model_name": "ProgressStyleModel",
      "state": {
       "_model_module": "@jupyter-widgets/controls",
       "_model_module_version": "2.0.0",
       "_model_name": "ProgressStyleModel",
       "_view_count": null,
       "_view_module": "@jupyter-widgets/base",
       "_view_module_version": "2.0.0",
       "_view_name": "StyleView",
       "bar_color": null,
       "description_width": ""
      }
     },
     "3e0873bfad064245978321c7ad60f47b": {
      "model_module": "@jupyter-widgets/base",
      "model_module_version": "2.0.0",
      "model_name": "LayoutModel",
      "state": {
       "_model_module": "@jupyter-widgets/base",
       "_model_module_version": "2.0.0",
       "_model_name": "LayoutModel",
       "_view_count": null,
       "_view_module": "@jupyter-widgets/base",
       "_view_module_version": "2.0.0",
       "_view_name": "LayoutView",
       "align_content": null,
       "align_items": null,
       "align_self": null,
       "border_bottom": null,
       "border_left": null,
       "border_right": null,
       "border_top": null,
       "bottom": null,
       "display": null,
       "flex": null,
       "flex_flow": null,
       "grid_area": null,
       "grid_auto_columns": null,
       "grid_auto_flow": null,
       "grid_auto_rows": null,
       "grid_column": null,
       "grid_gap": null,
       "grid_row": null,
       "grid_template_areas": null,
       "grid_template_columns": null,
       "grid_template_rows": null,
       "height": null,
       "justify_content": null,
       "justify_items": null,
       "left": null,
       "margin": null,
       "max_height": null,
       "max_width": null,
       "min_height": null,
       "min_width": null,
       "object_fit": null,
       "object_position": null,
       "order": null,
       "overflow": null,
       "padding": null,
       "right": null,
       "top": null,
       "visibility": null,
       "width": null
      }
     },
     "43cf05f8262441f984d0ff5ccdc72c3f": {
      "model_module": "@jupyter-widgets/controls",
      "model_module_version": "2.0.0",
      "model_name": "HTMLModel",
      "state": {
       "_dom_classes": [],
       "_model_module": "@jupyter-widgets/controls",
       "_model_module_version": "2.0.0",
       "_model_name": "HTMLModel",
       "_view_count": null,
       "_view_module": "@jupyter-widgets/controls",
       "_view_module_version": "2.0.0",
       "_view_name": "HTMLView",
       "description": "",
       "description_allow_html": false,
       "layout": "IPY_MODEL_a29f3039dc3040a9ba63324f0f702084",
       "placeholder": "​",
       "style": "IPY_MODEL_b2436ce17f4c4f16adb5bd76f72dc2aa",
       "tabbable": null,
       "tooltip": null,
       "value": " 2/2 [00:03&lt;00:00,  1.61s/it]"
      }
     },
     "50d1791ac99a4d39918f5a7957c5a4b3": {
      "model_module": "@jupyter-widgets/base",
      "model_module_version": "2.0.0",
      "model_name": "LayoutModel",
      "state": {
       "_model_module": "@jupyter-widgets/base",
       "_model_module_version": "2.0.0",
       "_model_name": "LayoutModel",
       "_view_count": null,
       "_view_module": "@jupyter-widgets/base",
       "_view_module_version": "2.0.0",
       "_view_name": "LayoutView",
       "align_content": null,
       "align_items": null,
       "align_self": null,
       "border_bottom": null,
       "border_left": null,
       "border_right": null,
       "border_top": null,
       "bottom": null,
       "display": null,
       "flex": null,
       "flex_flow": null,
       "grid_area": null,
       "grid_auto_columns": null,
       "grid_auto_flow": null,
       "grid_auto_rows": null,
       "grid_column": null,
       "grid_gap": null,
       "grid_row": null,
       "grid_template_areas": null,
       "grid_template_columns": null,
       "grid_template_rows": null,
       "height": null,
       "justify_content": null,
       "justify_items": null,
       "left": null,
       "margin": null,
       "max_height": null,
       "max_width": null,
       "min_height": null,
       "min_width": null,
       "object_fit": null,
       "object_position": null,
       "order": null,
       "overflow": null,
       "padding": null,
       "right": null,
       "top": null,
       "visibility": null,
       "width": null
      }
     },
     "5fb94d44c81a4ab19c158efad59da842": {
      "model_module": "@jupyter-widgets/base",
      "model_module_version": "2.0.0",
      "model_name": "LayoutModel",
      "state": {
       "_model_module": "@jupyter-widgets/base",
       "_model_module_version": "2.0.0",
       "_model_name": "LayoutModel",
       "_view_count": null,
       "_view_module": "@jupyter-widgets/base",
       "_view_module_version": "2.0.0",
       "_view_name": "LayoutView",
       "align_content": null,
       "align_items": null,
       "align_self": null,
       "border_bottom": null,
       "border_left": null,
       "border_right": null,
       "border_top": null,
       "bottom": null,
       "display": null,
       "flex": null,
       "flex_flow": null,
       "grid_area": null,
       "grid_auto_columns": null,
       "grid_auto_flow": null,
       "grid_auto_rows": null,
       "grid_column": null,
       "grid_gap": null,
       "grid_row": null,
       "grid_template_areas": null,
       "grid_template_columns": null,
       "grid_template_rows": null,
       "height": null,
       "justify_content": null,
       "justify_items": null,
       "left": null,
       "margin": null,
       "max_height": null,
       "max_width": null,
       "min_height": null,
       "min_width": null,
       "object_fit": null,
       "object_position": null,
       "order": null,
       "overflow": null,
       "padding": null,
       "right": null,
       "top": null,
       "visibility": null,
       "width": null
      }
     },
     "97c87f75341c4edfb9032c10c0d37649": {
      "model_module": "@jupyter-widgets/controls",
      "model_module_version": "2.0.0",
      "model_name": "HBoxModel",
      "state": {
       "_dom_classes": [],
       "_model_module": "@jupyter-widgets/controls",
       "_model_module_version": "2.0.0",
       "_model_name": "HBoxModel",
       "_view_count": null,
       "_view_module": "@jupyter-widgets/controls",
       "_view_module_version": "2.0.0",
       "_view_name": "HBoxView",
       "box_style": "",
       "children": [
        "IPY_MODEL_b1b87f8755a9414aa65110f10a18aa16",
        "IPY_MODEL_f4be7ac6eee04dd0aa5d825699f55a87",
        "IPY_MODEL_43cf05f8262441f984d0ff5ccdc72c3f"
       ],
       "layout": "IPY_MODEL_3e0873bfad064245978321c7ad60f47b",
       "tabbable": null,
       "tooltip": null
      }
     },
     "a29f3039dc3040a9ba63324f0f702084": {
      "model_module": "@jupyter-widgets/base",
      "model_module_version": "2.0.0",
      "model_name": "LayoutModel",
      "state": {
       "_model_module": "@jupyter-widgets/base",
       "_model_module_version": "2.0.0",
       "_model_name": "LayoutModel",
       "_view_count": null,
       "_view_module": "@jupyter-widgets/base",
       "_view_module_version": "2.0.0",
       "_view_name": "LayoutView",
       "align_content": null,
       "align_items": null,
       "align_self": null,
       "border_bottom": null,
       "border_left": null,
       "border_right": null,
       "border_top": null,
       "bottom": null,
       "display": null,
       "flex": null,
       "flex_flow": null,
       "grid_area": null,
       "grid_auto_columns": null,
       "grid_auto_flow": null,
       "grid_auto_rows": null,
       "grid_column": null,
       "grid_gap": null,
       "grid_row": null,
       "grid_template_areas": null,
       "grid_template_columns": null,
       "grid_template_rows": null,
       "height": null,
       "justify_content": null,
       "justify_items": null,
       "left": null,
       "margin": null,
       "max_height": null,
       "max_width": null,
       "min_height": null,
       "min_width": null,
       "object_fit": null,
       "object_position": null,
       "order": null,
       "overflow": null,
       "padding": null,
       "right": null,
       "top": null,
       "visibility": null,
       "width": null
      }
     },
     "a3ac6f8e1c5b43b18eff189db58e4769": {
      "model_module": "@jupyter-widgets/controls",
      "model_module_version": "2.0.0",
      "model_name": "HTMLStyleModel",
      "state": {
       "_model_module": "@jupyter-widgets/controls",
       "_model_module_version": "2.0.0",
       "_model_name": "HTMLStyleModel",
       "_view_count": null,
       "_view_module": "@jupyter-widgets/base",
       "_view_module_version": "2.0.0",
       "_view_name": "StyleView",
       "background": null,
       "description_width": "",
       "font_size": null,
       "text_color": null
      }
     },
     "ac80991f704d4989ae48e2a4ca8db27d": {
      "model_module": "@jupyter-widgets/base",
      "model_module_version": "2.0.0",
      "model_name": "LayoutModel",
      "state": {
       "_model_module": "@jupyter-widgets/base",
       "_model_module_version": "2.0.0",
       "_model_name": "LayoutModel",
       "_view_count": null,
       "_view_module": "@jupyter-widgets/base",
       "_view_module_version": "2.0.0",
       "_view_name": "LayoutView",
       "align_content": null,
       "align_items": null,
       "align_self": null,
       "border_bottom": null,
       "border_left": null,
       "border_right": null,
       "border_top": null,
       "bottom": null,
       "display": null,
       "flex": null,
       "flex_flow": null,
       "grid_area": null,
       "grid_auto_columns": null,
       "grid_auto_flow": null,
       "grid_auto_rows": null,
       "grid_column": null,
       "grid_gap": null,
       "grid_row": null,
       "grid_template_areas": null,
       "grid_template_columns": null,
       "grid_template_rows": null,
       "height": null,
       "justify_content": null,
       "justify_items": null,
       "left": null,
       "margin": null,
       "max_height": null,
       "max_width": null,
       "min_height": null,
       "min_width": null,
       "object_fit": null,
       "object_position": null,
       "order": null,
       "overflow": null,
       "padding": null,
       "right": null,
       "top": null,
       "visibility": null,
       "width": null
      }
     },
     "b1b87f8755a9414aa65110f10a18aa16": {
      "model_module": "@jupyter-widgets/controls",
      "model_module_version": "2.0.0",
      "model_name": "HTMLModel",
      "state": {
       "_dom_classes": [],
       "_model_module": "@jupyter-widgets/controls",
       "_model_module_version": "2.0.0",
       "_model_name": "HTMLModel",
       "_view_count": null,
       "_view_module": "@jupyter-widgets/controls",
       "_view_module_version": "2.0.0",
       "_view_name": "HTMLView",
       "description": "",
       "description_allow_html": false,
       "layout": "IPY_MODEL_50d1791ac99a4d39918f5a7957c5a4b3",
       "placeholder": "​",
       "style": "IPY_MODEL_276668281bab4f628d3ab8e3597d8af2",
       "tabbable": null,
       "tooltip": null,
       "value": "Loading checkpoint shards: 100%"
      }
     },
     "b2436ce17f4c4f16adb5bd76f72dc2aa": {
      "model_module": "@jupyter-widgets/controls",
      "model_module_version": "2.0.0",
      "model_name": "HTMLStyleModel",
      "state": {
       "_model_module": "@jupyter-widgets/controls",
       "_model_module_version": "2.0.0",
       "_model_name": "HTMLStyleModel",
       "_view_count": null,
       "_view_module": "@jupyter-widgets/base",
       "_view_module_version": "2.0.0",
       "_view_name": "StyleView",
       "background": null,
       "description_width": "",
       "font_size": null,
       "text_color": null
      }
     },
     "bbffd0181f11456a93dd8ff6b7837944": {
      "model_module": "@jupyter-widgets/controls",
      "model_module_version": "2.0.0",
      "model_name": "ProgressStyleModel",
      "state": {
       "_model_module": "@jupyter-widgets/controls",
       "_model_module_version": "2.0.0",
       "_model_name": "ProgressStyleModel",
       "_view_count": null,
       "_view_module": "@jupyter-widgets/base",
       "_view_module_version": "2.0.0",
       "_view_name": "StyleView",
       "bar_color": null,
       "description_width": ""
      }
     },
     "bc866e9861c14708a928a673cf9c653c": {
      "model_module": "@jupyter-widgets/base",
      "model_module_version": "2.0.0",
      "model_name": "LayoutModel",
      "state": {
       "_model_module": "@jupyter-widgets/base",
       "_model_module_version": "2.0.0",
       "_model_name": "LayoutModel",
       "_view_count": null,
       "_view_module": "@jupyter-widgets/base",
       "_view_module_version": "2.0.0",
       "_view_name": "LayoutView",
       "align_content": null,
       "align_items": null,
       "align_self": null,
       "border_bottom": null,
       "border_left": null,
       "border_right": null,
       "border_top": null,
       "bottom": null,
       "display": null,
       "flex": null,
       "flex_flow": null,
       "grid_area": null,
       "grid_auto_columns": null,
       "grid_auto_flow": null,
       "grid_auto_rows": null,
       "grid_column": null,
       "grid_gap": null,
       "grid_row": null,
       "grid_template_areas": null,
       "grid_template_columns": null,
       "grid_template_rows": null,
       "height": null,
       "justify_content": null,
       "justify_items": null,
       "left": null,
       "margin": null,
       "max_height": null,
       "max_width": null,
       "min_height": null,
       "min_width": null,
       "object_fit": null,
       "object_position": null,
       "order": null,
       "overflow": null,
       "padding": null,
       "right": null,
       "top": null,
       "visibility": null,
       "width": null
      }
     },
     "ccd79ce46c604b64961e77a53e813baa": {
      "model_module": "@jupyter-widgets/base",
      "model_module_version": "2.0.0",
      "model_name": "LayoutModel",
      "state": {
       "_model_module": "@jupyter-widgets/base",
       "_model_module_version": "2.0.0",
       "_model_name": "LayoutModel",
       "_view_count": null,
       "_view_module": "@jupyter-widgets/base",
       "_view_module_version": "2.0.0",
       "_view_name": "LayoutView",
       "align_content": null,
       "align_items": null,
       "align_self": null,
       "border_bottom": null,
       "border_left": null,
       "border_right": null,
       "border_top": null,
       "bottom": null,
       "display": null,
       "flex": null,
       "flex_flow": null,
       "grid_area": null,
       "grid_auto_columns": null,
       "grid_auto_flow": null,
       "grid_auto_rows": null,
       "grid_column": null,
       "grid_gap": null,
       "grid_row": null,
       "grid_template_areas": null,
       "grid_template_columns": null,
       "grid_template_rows": null,
       "height": null,
       "justify_content": null,
       "justify_items": null,
       "left": null,
       "margin": null,
       "max_height": null,
       "max_width": null,
       "min_height": null,
       "min_width": null,
       "object_fit": null,
       "object_position": null,
       "order": null,
       "overflow": null,
       "padding": null,
       "right": null,
       "top": null,
       "visibility": null,
       "width": null
      }
     },
     "efca9d6e978a4c08bd3db12d6f21c22b": {
      "model_module": "@jupyter-widgets/base",
      "model_module_version": "2.0.0",
      "model_name": "LayoutModel",
      "state": {
       "_model_module": "@jupyter-widgets/base",
       "_model_module_version": "2.0.0",
       "_model_name": "LayoutModel",
       "_view_count": null,
       "_view_module": "@jupyter-widgets/base",
       "_view_module_version": "2.0.0",
       "_view_name": "LayoutView",
       "align_content": null,
       "align_items": null,
       "align_self": null,
       "border_bottom": null,
       "border_left": null,
       "border_right": null,
       "border_top": null,
       "bottom": null,
       "display": null,
       "flex": null,
       "flex_flow": null,
       "grid_area": null,
       "grid_auto_columns": null,
       "grid_auto_flow": null,
       "grid_auto_rows": null,
       "grid_column": null,
       "grid_gap": null,
       "grid_row": null,
       "grid_template_areas": null,
       "grid_template_columns": null,
       "grid_template_rows": null,
       "height": null,
       "justify_content": null,
       "justify_items": null,
       "left": null,
       "margin": null,
       "max_height": null,
       "max_width": null,
       "min_height": null,
       "min_width": null,
       "object_fit": null,
       "object_position": null,
       "order": null,
       "overflow": null,
       "padding": null,
       "right": null,
       "top": null,
       "visibility": null,
       "width": null
      }
     },
     "f4be7ac6eee04dd0aa5d825699f55a87": {
      "model_module": "@jupyter-widgets/controls",
      "model_module_version": "2.0.0",
      "model_name": "FloatProgressModel",
      "state": {
       "_dom_classes": [],
       "_model_module": "@jupyter-widgets/controls",
       "_model_module_version": "2.0.0",
       "_model_name": "FloatProgressModel",
       "_view_count": null,
       "_view_module": "@jupyter-widgets/controls",
       "_view_module_version": "2.0.0",
       "_view_name": "ProgressView",
       "bar_style": "success",
       "description": "",
       "description_allow_html": false,
       "layout": "IPY_MODEL_ccd79ce46c604b64961e77a53e813baa",
       "max": 2,
       "min": 0,
       "orientation": "horizontal",
       "style": "IPY_MODEL_bbffd0181f11456a93dd8ff6b7837944",
       "tabbable": null,
       "tooltip": null,
       "value": 2
      }
     },
     "fef293e78c3844988e92468ed2a2d235": {
      "model_module": "@jupyter-widgets/controls",
      "model_module_version": "2.0.0",
      "model_name": "HTMLModel",
      "state": {
       "_dom_classes": [],
       "_model_module": "@jupyter-widgets/controls",
       "_model_module_version": "2.0.0",
       "_model_name": "HTMLModel",
       "_view_count": null,
       "_view_module": "@jupyter-widgets/controls",
       "_view_module_version": "2.0.0",
       "_view_name": "HTMLView",
       "description": "",
       "description_allow_html": false,
       "layout": "IPY_MODEL_ac80991f704d4989ae48e2a4ca8db27d",
       "placeholder": "​",
       "style": "IPY_MODEL_a3ac6f8e1c5b43b18eff189db58e4769",
       "tabbable": null,
       "tooltip": null,
       "value": "Loading checkpoint shards: 100%"
      }
     }
    },
    "version_major": 2,
    "version_minor": 0
   }
  }
 },
 "nbformat": 4,
 "nbformat_minor": 5
}
